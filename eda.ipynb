{
 "cells": [
  {
   "cell_type": "markdown",
   "metadata": {},
   "source": [
    "# Exploratory Data Analysis for Car Price Prediction\n",
    "\n",
    "This notebook performs exploratory data analysis on car sales advertisements data to prepare for building a prediction model for car prices."
   ]
  },
  {
   "cell_type": "markdown",
   "metadata": {},
   "source": [
    "## 1. Setup and Data Loading"
   ]
  },
  {
   "metadata": {},
   "cell_type": "markdown",
   "source": [
    "# Import necessary libraries\n",
    "import pandas as pd\n",
    "import numpy as np\n",
    "import matplotlib.pyplot as plt\n",
    "import seaborn as sns\n",
    "import missingno as msno\n",
    "import warnings\n",
    "\n",
    "# Set plot styling\n",
    "plt.style.use(\"seaborn-v0_8-whitegrid\")\n",
    "sns.set_palette(\"viridis\")\n",
    "warnings.filterwarnings(\"ignore\")\n",
    "\n",
    "# Display settings\n",
    "pd.set_option(\"display.max_columns\", None)\n",
    "pd.set_option(\"display.width\", 200)"
   ]
  },
  {
   "cell_type": "code",
   "metadata": {},
   "source": [
    "# Load the dataset\n",
    "df = pd.read_csv(\"data/sales_ads_train.csv\")\n",
    "\n",
    "# Display basic information\n",
    "print(f\"Dataset shape: {df.shape}\")\n",
    "df.head()"
   ],
   "outputs": [],
   "execution_count": null
  },
  {
   "cell_type": "markdown",
   "metadata": {},
   "source": [
    "## 2. Data Overview and Structure"
   ]
  },
  {
   "cell_type": "code",
   "metadata": {},
   "source": [
    "# Check column data types\n",
    "df.info()"
   ],
   "outputs": [],
   "execution_count": null
  },
  {
   "cell_type": "code",
   "metadata": {},
   "source": [
    "# Statistical summary of numerical features\n",
    "df.describe().T"
   ],
   "outputs": [],
   "execution_count": null
  },
  {
   "cell_type": "code",
   "metadata": {},
   "source": [
    "# Distribution of categorical features\n",
    "cat_columns = df.select_dtypes(include=[\"object\"]).columns\n",
    "\n",
    "for col in cat_columns[:5]:  # Display first 5 categorical columns\n",
    "    print(f\"\\n{col} - {df[col].nunique()} unique values\")\n",
    "    print(df[col].value_counts().head())"
   ],
   "outputs": [],
   "execution_count": null
  },
  {
   "cell_type": "markdown",
   "metadata": {},
   "source": [
    "## 3. Target Variable Analysis (Price)"
   ]
  },
  {
   "cell_type": "code",
   "metadata": {},
   "source": [
    "# Basic statistics of price\n",
    "print(df[\"Cena\"].describe())\n",
    "\n",
    "# Visualize price distribution\n",
    "plt.figure(figsize=(12, 6))\n",
    "\n",
    "plt.subplot(1, 2, 1)\n",
    "sns.histplot(df[\"Cena\"], kde=True)\n",
    "plt.title(\"Price Distribution\")\n",
    "plt.xlabel(\"Price\")\n",
    "\n",
    "plt.subplot(1, 2, 2)\n",
    "sns.histplot(np.log1p(df[\"Cena\"]), kde=True)\n",
    "plt.title(\"Log-transformed Price Distribution\")\n",
    "plt.xlabel(\"Log(Price+1)\")\n",
    "\n",
    "plt.tight_layout()\n",
    "plt.show()"
   ],
   "outputs": [],
   "execution_count": null
  },
  {
   "cell_type": "code",
   "metadata": {},
   "source": [
    "# Price distribution by currency\n",
    "plt.figure(figsize=(10, 6))\n",
    "sns.boxplot(x=\"Waluta\", y=\"Cena\", data=df)\n",
    "plt.title(\"Price Distribution by Currency\")\n",
    "plt.yscale(\"log\")\n",
    "plt.grid(True, alpha=0.3)\n",
    "plt.show()"
   ],
   "outputs": [],
   "execution_count": null
  },
  {
   "cell_type": "markdown",
   "metadata": {},
   "source": [
    "## 4. Missing Values Analysis"
   ]
  },
  {
   "cell_type": "code",
   "metadata": {},
   "source": [
    "# Check for missing values\n",
    "missing_values = df.isnull().sum().sort_values(ascending=False)\n",
    "missing_percent = (missing_values / len(df) * 100).round(2)\n",
    "missing_df = pd.DataFrame(\n",
    "    {\"Missing Values\": missing_values, \"Percentage\": missing_percent}\n",
    ")\n",
    "missing_df = missing_df[missing_df[\"Missing Values\"] > 0]\n",
    "missing_df"
   ],
   "outputs": [],
   "execution_count": null
  },
  {
   "cell_type": "code",
   "metadata": {},
   "source": [
    "# Visualize missing values patterns\n",
    "plt.figure(figsize=(12, 8))\n",
    "msno.matrix(df)\n",
    "plt.title(\"Missing Values Matrix\")\n",
    "plt.show()"
   ],
   "outputs": [],
   "execution_count": null
  },
  {
   "cell_type": "markdown",
   "metadata": {},
   "source": [
    "## 5. Numerical Features Analysis"
   ]
  },
  {
   "cell_type": "code",
   "metadata": {},
   "source": [
    "# Select numerical columns\n",
    "num_cols = df.select_dtypes(include=[\"int64\", \"float64\"]).columns.tolist()\n",
    "num_cols = [col for col in num_cols if col != \"ID\"]\n",
    "\n",
    "# Correlation matrix\n",
    "plt.figure(figsize=(14, 10))\n",
    "correlation = df[num_cols].corr()\n",
    "mask = np.triu(correlation)\n",
    "sns.heatmap(\n",
    "    correlation, annot=True, fmt=\".2f\", cmap=\"coolwarm\", mask=mask, linewidths=0.5\n",
    ")\n",
    "plt.title(\"Correlation Matrix of Numerical Features\")\n",
    "plt.tight_layout()\n",
    "plt.show()"
   ],
   "outputs": [],
   "execution_count": null
  },
  {
   "cell_type": "code",
   "metadata": {},
   "source": [
    "# Relationship between key numerical features and price\n",
    "key_features = [\"Rok_produkcji\", \"Przebieg_km\", \"Moc_KM\", \"Pojemnosc_cm3\", \"Emisja_CO2\"]\n",
    "\n",
    "plt.figure(figsize=(16, 12))\n",
    "for i, feature in enumerate(key_features):\n",
    "    plt.subplot(3, 2, i + 1)\n",
    "    plt.scatter(df[feature], df[\"Cena\"], alpha=0.3)\n",
    "    plt.title(f\"{feature} vs Price\")\n",
    "    plt.xlabel(feature)\n",
    "    plt.ylabel(\"Price\")\n",
    "    plt.grid(True, alpha=0.3)\n",
    "\n",
    "plt.tight_layout()\n",
    "plt.show()"
   ],
   "outputs": [],
   "execution_count": null
  },
  {
   "cell_type": "markdown",
   "metadata": {},
   "source": [
    "## 6. Categorical Features Analysis"
   ]
  },
  {
   "cell_type": "code",
   "metadata": {},
   "source": [
    "# Top car brands by average price\n",
    "brand_price = df.groupby(\"Marka_pojazdu\")[\"Cena\"].agg([\"mean\", \"count\"])\n",
    "brand_price = brand_price[brand_price[\"count\"] > 100].sort_values(\n",
    "    \"mean\", ascending=False\n",
    ")\n",
    "\n",
    "plt.figure(figsize=(14, 8))\n",
    "sns.barplot(x=brand_price.index[:15], y=\"mean\", data=brand_price[:15])\n",
    "plt.title(\"Top 15 Car Brands by Average Price\")\n",
    "plt.xlabel(\"Brand\")\n",
    "plt.ylabel(\"Average Price\")\n",
    "plt.xticks(rotation=45, ha=\"right\")\n",
    "plt.grid(True, alpha=0.3)\n",
    "plt.tight_layout()\n",
    "plt.show()"
   ],
   "outputs": [],
   "execution_count": null
  },
  {
   "cell_type": "code",
   "metadata": {},
   "source": [
    "# Price distribution by car body type\n",
    "plt.figure(figsize=(14, 8))\n",
    "sns.boxplot(x=\"Typ_nadwozia\", y=\"Cena\", data=df)\n",
    "plt.title(\"Price Distribution by Car Body Type\")\n",
    "plt.xlabel(\"Body Type\")\n",
    "plt.ylabel(\"Price\")\n",
    "plt.yscale(\"log\")\n",
    "plt.xticks(rotation=45, ha=\"right\")\n",
    "plt.grid(True, alpha=0.3)\n",
    "plt.tight_layout()\n",
    "plt.show()"
   ],
   "outputs": [],
   "execution_count": null
  },
  {
   "cell_type": "code",
   "metadata": {},
   "source": [
    "# Price distribution by fuel type\n",
    "plt.figure(figsize=(14, 8))\n",
    "sns.boxplot(x=\"Rodzaj_paliwa\", y=\"Cena\", data=df)\n",
    "plt.title(\"Price Distribution by Fuel Type\")\n",
    "plt.xlabel(\"Fuel Type\")\n",
    "plt.ylabel(\"Price\")\n",
    "plt.yscale(\"log\")\n",
    "plt.xticks(rotation=45, ha=\"right\")\n",
    "plt.grid(True, alpha=0.3)\n",
    "plt.tight_layout()\n",
    "plt.show()"
   ],
   "outputs": [],
   "execution_count": null
  },
  {
   "cell_type": "code",
   "metadata": {},
   "source": [
    "# Price distribution by propulsion type\n",
    "plt.figure(figsize=(14, 8))\n",
    "sns.boxplot(x=\"Naped\", y=\"Cena\", data=df)\n",
    "plt.title(\"Price Distribution by Propulsion Type\")\n",
    "plt.yscale(\"log\")\n",
    "plt.xticks(rotation=45, ha=\"right\")\n",
    "plt.grid(True, alpha=0.3)\n",
    "plt.tight_layout()\n",
    "plt.show()"
   ],
   "outputs": [],
   "execution_count": null
  },
  {
   "cell_type": "code",
   "metadata": {},
   "source": [
    "price_stats = (\n",
    "    df.groupby(\"Skrzynia_biegow\")[\"Cena\"].agg([\"mean\", \"median\"]).reset_index()\n",
    ")\n",
    "\n",
    "# Sort by transmission type (if necessary)\n",
    "price_stats.sort_values(\"Skrzynia_biegow\", inplace=True)\n",
    "\n",
    "plt.figure(figsize=(14, 8))\n",
    "plt.plot(\n",
    "    price_stats[\"Skrzynia_biegow\"], price_stats[\"mean\"], marker=\"o\", label=\"Mean Price\"\n",
    ")\n",
    "plt.plot(\n",
    "    price_stats[\"Skrzynia_biegow\"],\n",
    "    price_stats[\"median\"],\n",
    "    marker=\"o\",\n",
    "    label=\"Median Price\",\n",
    ")\n",
    "plt.title(\"Price Distribution by Transmission Type (Linear)\")\n",
    "plt.xlabel(\"Transmission Type\")\n",
    "plt.ylabel(\"Price\")\n",
    "plt.xticks(rotation=45, ha=\"right\")\n",
    "plt.grid(True, alpha=0.3)\n",
    "plt.legend()\n",
    "plt.tight_layout()\n",
    "plt.show()\n",
    "\n",
    "plt.figure(figsize=(14, 8))\n",
    "sns.kdeplot(data=df, x=\"Cena\", hue=\"Skrzynia_biegow\", fill=True)\n",
    "plt.title(\"Price Distribution by Transmission Type\")\n",
    "plt.xscale(\"log\", base=10)\n",
    "plt.xlabel(\"Price\")\n",
    "plt.ylabel(\"Density\")\n",
    "plt.xticks(rotation=45, ha=\"right\")\n",
    "plt.grid(True, alpha=0.3)\n",
    "plt.tight_layout()\n",
    "plt.show()"
   ],
   "outputs": [],
   "execution_count": null
  },
  {
   "cell_type": "code",
   "metadata": {},
   "source": [
    "# Price distribution by color\n",
    "plt.figure(figsize=(14, 8))\n",
    "sns.boxplot(x=df[\"Kolor\"], y=df[\"Cena\"], showfliers=False)\n",
    "plt.title(\"Price Distribution by Car Color\")\n",
    "plt.xticks(rotation=45, ha=\"right\")\n",
    "plt.xlabel(\"Kolor\")\n",
    "plt.ylabel(\"Cena\")\n",
    "plt.xticks(rotation=45, ha=\"right\")\n",
    "plt.grid(True, alpha=0.3)\n",
    "plt.tight_layout()\n",
    "plt.show()\n",
    "\n",
    "# Average price per color\n",
    "avg_price_per_color = df.groupby(\"Kolor\")[\"Cena\"].mean().sort_values(ascending=False)\n",
    "plt.figure(figsize=(14, 8))\n",
    "sns.barplot(x=avg_price_per_color.index, y=avg_price_per_color.values)\n",
    "plt.title(\"Average Price by Car Color\")\n",
    "plt.xlabel(\"Kolor\")\n",
    "plt.ylabel(\"Average Price\")\n",
    "plt.xticks(rotation=45, ha=\"right\")\n",
    "plt.grid(True, alpha=0.3)\n",
    "plt.tight_layout()\n",
    "plt.show()"
   ],
   "outputs": [],
   "execution_count": null
  },
  {
   "cell_type": "code",
   "metadata": {},
   "source": [
    "# Price distribution by country of origin\n",
    "plt.figure(figsize=(14, 8))\n",
    "sns.boxplot(x=df[\"Kraj_pochodzenia\"], y=df[\"Cena\"], showfliers=False)\n",
    "plt.title(\"Price Distribution by Country of Origin\")\n",
    "plt.xlabel(\"Kraj Pochodzenia\")\n",
    "plt.ylabel(\"Cena\")\n",
    "plt.xticks(rotation=45, ha=\"right\")\n",
    "plt.grid(True, alpha=0.3)\n",
    "plt.tight_layout()\n",
    "plt.show()\n",
    "\n",
    "# Average price per country of origin\n",
    "avg_price_per_country = (\n",
    "    df.groupby(\"Kraj_pochodzenia\")[\"Cena\"].mean().sort_values(ascending=False)\n",
    ")\n",
    "plt.figure(figsize=(14, 8))\n",
    "sns.barplot(x=avg_price_per_country.index, y=avg_price_per_country.values)\n",
    "plt.title(\"Average Price by Country of Origin\")\n",
    "plt.xlabel(\"Kraj Pochodzenia\")\n",
    "plt.ylabel(\"Average Price\")\n",
    "plt.xticks(rotation=45, ha=\"right\")\n",
    "plt.grid(True, alpha=0.3)\n",
    "plt.tight_layout()\n",
    "plt.show()"
   ],
   "outputs": [],
   "execution_count": null
  },
  {
   "cell_type": "code",
   "metadata": {},
   "source": [
    "### Date features analysis\n",
    "# Analyzing offer publication dates\n",
    "# Convert Data_publikacji_oferty to datetime\n",
    "df[\"Data_publikacji_oferty\"] = pd.to_datetime(\n",
    "    df[\"Data_publikacji_oferty\"], dayfirst=True, errors=\"coerce\"\n",
    ")\n",
    "\n",
    "# Extract date components\n",
    "df[\"Publication_Month\"] = df[\"Data_publikacji_oferty\"].dt.month\n",
    "df[\"Publication_Year\"] = df[\"Data_publikacji_oferty\"].dt.year\n",
    "\n",
    "# Count offers by publication date\n",
    "date_counts = df[\"Data_publikacji_oferty\"].dt.date.value_counts().sort_index()\n",
    "\n",
    "# Plot the distribution of offers by publication date\n",
    "plt.figure(figsize=(16, 8))\n",
    "date_counts.plot(kind=\"line\", marker=\".\", alpha=0.7)\n",
    "plt.title(\"Number of Offers Published by Date\")\n",
    "plt.xlabel(\"Publication Date\")\n",
    "plt.ylabel(\"Number of Offers\")\n",
    "plt.grid(True, alpha=0.3)\n",
    "plt.tight_layout()\n",
    "plt.show()\n",
    "\n",
    "# Monthly distribution\n",
    "plt.figure(figsize=(14, 6))\n",
    "monthly_counts = (\n",
    "    df.groupby([\"Publication_Year\", \"Publication_Month\"])\n",
    "    .size()\n",
    "    .reset_index(name=\"count\")\n",
    ")\n",
    "sns.barplot(\n",
    "    x=\"Publication_Month\", y=\"count\", hue=\"Publication_Year\", data=monthly_counts\n",
    ")\n",
    "plt.title(\"Monthly Distribution of Published Offers\")\n",
    "plt.xlabel(\"Month\")\n",
    "plt.ylabel(\"Number of Offers\")\n",
    "plt.grid(True, alpha=0.3)\n",
    "plt.tight_layout()\n",
    "plt.show()"
   ],
   "outputs": [],
   "execution_count": null
  },
  {
   "cell_type": "markdown",
   "metadata": {},
   "source": [
    "## 7. Feature Engineering Exploration"
   ]
  },
  {
   "cell_type": "code",
   "metadata": {},
   "source": [
    "# Create age feature\n",
    "current_year = pd.to_datetime(\"today\").year\n",
    "df[\"car_age\"] = current_year - df[\"Rok_produkcji\"]\n",
    "\n",
    "# Explore price vs car age relationship\n",
    "plt.figure(figsize=(12, 6))\n",
    "sns.scatterplot(x=\"car_age\", y=\"Cena\", data=df, alpha=0.3)\n",
    "plt.title(\"Price vs Car Age\")\n",
    "plt.xlabel(\"Car Age (years)\")\n",
    "plt.ylabel(\"Price\")\n",
    "plt.xticks(rotation=45, ha=\"right\")\n",
    "plt.grid(True, alpha=0.3)\n",
    "plt.tight_layout()\n",
    "plt.show()"
   ],
   "outputs": [],
   "execution_count": null
  },
  {
   "cell_type": "code",
   "metadata": {},
   "source": [
    "# Convert date columns to datetime format\n",
    "df[\"Data_pierwszej_rejestracji\"] = pd.to_datetime(\n",
    "    df[\"Data_pierwszej_rejestracji\"], errors=\"coerce\"\n",
    ")\n",
    "df[\"Data_publikacji_oferty\"] = pd.to_datetime(\n",
    "    df[\"Data_publikacji_oferty\"], errors=\"coerce\"\n",
    ")\n",
    "\n",
    "# Calculate difference between publication and registration dates in days\n",
    "df[\"days_since_registration\"] = (\n",
    "    df[\"Data_publikacji_oferty\"] - df[\"Data_pierwszej_rejestracji\"]\n",
    ").dt.days\n",
    "\n",
    "# Clip negative values to 0\n",
    "df[\"days_since_registration\"] = df[\"days_since_registration\"].clip(lower=0)\n",
    "\n",
    "# Distribution of days_since_registration\n",
    "plt.figure(figsize=(12, 6))\n",
    "sns.histplot(df[\"days_since_registration\"].dropna(), kde=True)\n",
    "plt.title(\"Days Since Registration to Offer Publication\")\n",
    "plt.xlabel(\"Days Since Registration\")\n",
    "plt.xticks(rotation=45, ha=\"right\")\n",
    "plt.grid(True, alpha=0.3)\n",
    "plt.tight_layout()\n",
    "plt.show()\n",
    "\n",
    "# Relationship between days_since_registration and Price\n",
    "plt.figure(figsize=(12, 6))\n",
    "sns.scatterplot(x=\"days_since_registration\", y=\"Cena\", data=df, alpha=0.3)\n",
    "plt.title(\"Days Since Registration vs Price\")\n",
    "plt.xlabel(\"Days Since Registration\")\n",
    "plt.ylabel(\"Price\")\n",
    "plt.xticks(rotation=45, ha=\"right\")\n",
    "plt.grid(True, alpha=0.3)\n",
    "plt.tight_layout()\n",
    "plt.show()\n",
    "\n",
    "correlation = df[[\"days_since_registration\", \"Cena\"]].corr().iloc[0, 1]\n",
    "print(\"Correlation between days_since_registration and Price:\", correlation)"
   ],
   "outputs": [],
   "execution_count": null
  },
  {
   "cell_type": "code",
   "metadata": {},
   "source": [
    "# Extract equipment features\n",
    "# First check if Wyposazenie is in string format and contains lists\n",
    "if df[\"Wyposazenie\"].dtype == \"object\" and df[\"Wyposazenie\"].str.contains(\"\\[\").any():\n",
    "    # Convert string representation of lists to actual lists\n",
    "    try:\n",
    "        df[\"equipment_list\"] = df[\"Wyposazenie\"].apply(\n",
    "            lambda x: eval(x) if isinstance(x, str) else []\n",
    "        )\n",
    "\n",
    "        # Count equipment features\n",
    "        df[\"equipment_count\"] = df[\"equipment_list\"].apply(len)\n",
    "\n",
    "        # Plot distribution of equipment count\n",
    "        plt.figure(figsize=(12, 6))\n",
    "        sns.histplot(df[\"equipment_count\"], bins=30, kde=True)\n",
    "        plt.title(\"Distribution of Equipment Features Count\")\n",
    "        plt.xlabel(\"Number of Equipment Features\")\n",
    "        plt.grid(True, alpha=0.3)\n",
    "        plt.show()\n",
    "\n",
    "        # Relationship between equipment count and price\n",
    "        plt.figure(figsize=(12, 6))\n",
    "        sns.scatterplot(x=\"equipment_count\", y=\"Cena\", data=df, alpha=0.3)\n",
    "        plt.title(\"Price vs Equipment Features Count\")\n",
    "        plt.xlabel(\"Number of Equipment Features\")\n",
    "        plt.ylabel(\"Price\")\n",
    "        plt.grid(True, alpha=0.3)\n",
    "        plt.show()\n",
    "    except Exception as e:\n",
    "        print(\"Could not parse equipment list. Error:\", e)\n",
    "else:\n",
    "    print(\"Equipment column not in expected format.\")"
   ],
   "outputs": [],
   "execution_count": null
  },
  {
   "cell_type": "markdown",
   "metadata": {},
   "source": [
    "## 8. Outlier Detection and Analysis"
   ]
  },
  {
   "cell_type": "code",
   "metadata": {},
   "source": [
    "# Function to detect outliers using IQR method\n",
    "def detect_outliers(df, column):\n",
    "    Q1 = df[column].quantile(0.25)\n",
    "    Q3 = df[column].quantile(0.75)\n",
    "    IQR = Q3 - Q1\n",
    "    lower_bound = Q1 - 1.5 * IQR\n",
    "    upper_bound = Q3 + 1.5 * IQR\n",
    "    return df[(df[column] < lower_bound) | (df[column] > upper_bound)]\n",
    "\n",
    "\n",
    "# Detect price outliers\n",
    "price_outliers = detect_outliers(df, \"Cena\")\n",
    "print(f\"Number of price outliers: {len(price_outliers)}\")\n",
    "print(f\"Percentage of price outliers: {len(price_outliers) / len(df) * 100:.2f}%\")\n",
    "\n",
    "# Display some statistics about outliers\n",
    "if len(price_outliers) > 0:\n",
    "    print(\"\\nPrice outliers statistics:\")\n",
    "    print(price_outliers[\"Cena\"].describe())"
   ],
   "outputs": [],
   "execution_count": null
  },
  {
   "cell_type": "markdown",
   "metadata": {},
   "source": [
    "## 9. Data Preparation for Modeling"
   ]
  },
  {
   "cell_type": "code",
   "metadata": {},
   "source": [
    "# Create a copy of the dataframe for preprocessing\n",
    "df_prep = df.copy()\n",
    "\n",
    "# List of potentially important features for price prediction\n",
    "features = [\n",
    "    \"Marka_pojazdu\",\n",
    "    \"Model_pojazdu\",\n",
    "    \"Rok_produkcji\",\n",
    "    \"Przebieg_km\",\n",
    "    \"Moc_KM\",\n",
    "    \"Pojemnosc_cm3\",\n",
    "    \"Rodzaj_paliwa\",\n",
    "    \"Naped\",\n",
    "    \"Skrzynia_biegow\",\n",
    "    \"Typ_nadwozia\",\n",
    "    \"Stan\",\n",
    "    \"car_age\",\n",
    "]\n",
    "\n",
    "# Check which features from our list are available\n",
    "available_features = [f for f in features if f in df_prep.columns]\n",
    "print(f\"Available features for modeling: {available_features}\")"
   ],
   "outputs": [],
   "execution_count": null
  },
  {
   "cell_type": "code",
   "metadata": {},
   "source": [
    "# Convert currency if needed\n",
    "if \"Waluta\" in df_prep.columns:\n",
    "    # Check unique currencies\n",
    "    print(f\"Unique currencies: {df_prep['Waluta'].unique()}\")\n",
    "\n",
    "    # Note: For a real model, we would need to normalize all prices to a single currency\n",
    "    # using appropriate exchange rates. For this EDA, we'll just note the currencies."
   ],
   "outputs": [],
   "execution_count": null
  },
  {
   "cell_type": "markdown",
   "metadata": {},
   "source": [
    "## 10. Key Findings and Insights"
   ]
  },
  {
   "cell_type": "markdown",
   "metadata": {},
   "source": [
    "**Key findings from the EDA:**\n",
    "\n",
    "1. **Price Distribution**: The target variable distribution and whether log transformation would be beneficial\n",
    "2. **Missing Values**: Patterns and strategies for handling missing values\n",
    "3. **Important Correlations**: Numerical features most correlated with price\n",
    "4. **Categorical Impact**: Which categorical features have the strongest relationship with price\n",
    "5. **Feature Engineering**: Effectiveness of engineered features like car age and equipment count\n",
    "6. **Outliers**: Presence and potential impact of outliers on the model\n",
    "7. **Currency**: Drop EURO rows"
   ]
  },
  {
   "cell_type": "markdown",
   "metadata": {},
   "source": [
    "## 11. Next Steps for Modeling"
   ]
  },
  {
   "metadata": {},
   "cell_type": "markdown",
   "source": [
    "**Recommended next steps for building a price prediction model:**\n",
    "\n",
    "1. **Data Preprocessing**:\n",
    "   - Handle missing values based on patterns observed\n",
    "   - Encode categorical variables appropriately\n",
    "   - Consider scaling/normalizing numerical features\n",
    "   - Implement feature engineering ideas (car age, equipment count, etc.)\n",
    "   - Drop EURO from the dataset\n",
    "   - Drop the dates( because all the offers published in 04-05 of the 2021)\n",
    "   - Drop the equipment\n",
    "   - Drop location of the poland\n",
    "   - Drop electric cars\n",
    "   - Drop LPG\n",
    "\n",
    "2. **Feature Selection**:\n",
    "   - Use correlation analysis and feature importance to select relevant predictors\n",
    "   - Consider dimensionality reduction for high-cardinality features\n",
    "\n",
    "3. **Model Selection**:\n",
    "   - Try regression models (Linear Regression, Ridge, Lasso)\n",
    "   - Ensemble methods (Random Forest, Gradient Boosting)\n",
    "   - Consider advanced models like XGBoost, LightGBM\n",
    "\n",
    "4. **Evaluation Strategy**:\n",
    "   - Cross-validation approach\n",
    "   - Metrics to use (RMSE, MAE, R²)\n",
    "   - Baseline model to compare against"
   ]
  },
  {
   "cell_type": "markdown",
   "metadata": {},
   "source": [
    "## 12. What to do if prediction is not that great\n",
    "\n",
    "**Features that we can add to the dataset later**\n",
    "*df[\"Usage_Rate\"] = df[\"Przebieg\"] / df[\"Wiek\"]*\n"
   ]
  },
  {
   "cell_type": "markdown",
   "metadata": {},
   "source": [
    "\n",
    "## 13. Iterations\n",
    "\n",
    "**First:**\n",
    "\n",
    "*Kilometers, car age, horse power, volume of the engine, number of doors*"
   ]
  }
 ],
 "metadata": {
  "kernelspec": {
   "display_name": "Python 3 (ipykernel)",
   "language": "python",
   "name": "python3"
  },
  "language_info": {
   "codemirror_mode": {
    "name": "ipython",
    "version": 3
   },
   "file_extension": ".py",
   "mimetype": "text/x-python",
   "name": "python",
   "nbconvert_exporter": "python",
   "pygments_lexer": "ipython3",
   "version": "3.12.4"
  }
 },
 "nbformat": 4,
 "nbformat_minor": 4
}
